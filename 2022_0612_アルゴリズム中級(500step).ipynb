{
  "cells": [
    {
      "cell_type": "markdown",
      "metadata": {
        "id": "view-in-github",
        "colab_type": "text"
      },
      "source": [
        "<a href=\"https://colab.research.google.com/github/GoOkumura/RareTECH_500STEP_HandsOn-/blob/algorithm/2022_0612_%E3%82%A2%E3%83%AB%E3%82%B4%E3%83%AA%E3%82%BA%E3%83%A0%E4%B8%AD%E7%B4%9A(500step).ipynb\" target=\"_parent\"><img src=\"https://colab.research.google.com/assets/colab-badge.svg\" alt=\"Open In Colab\"/></a>"
      ]
    },
    {
      "cell_type": "markdown",
      "id": "295af33a-9a18-4791-acc5-9143330dffef",
      "metadata": {
        "id": "295af33a-9a18-4791-acc5-9143330dffef"
      },
      "source": [
        "# バイナリサーチ\n",
        "- 探索アルゴリズムの1つ\n",
        "- 探索したい値とソート済み配列の真ん中の要素の大小関係を比較して絞り込むことを繰り返し、探索したい値が存在する場所を見つける"
      ]
    },
    {
      "cell_type": "markdown",
      "id": "5e9c4ac4-c24f-4df0-8ec3-07bb36ecebba",
      "metadata": {
        "id": "5e9c4ac4-c24f-4df0-8ec3-07bb36ecebba"
      },
      "source": [
        "## 問題\n",
        "引数にソート済みリストと数値を指定したときに、バイナリサーチのアルゴリズムによって\n",
        "- 指定した数値がソート済みリスト内に存在するならば、そのindex番号を\n",
        "- 指定した数値がソート済みリスト内に存在しないならば、\"NotFound\"という文字列を\n",
        "\n",
        "返す、binary_search関数を作成してください。\n",
        "\n",
        "```\n",
        "# 実行例\n",
        "nums = [0, 1, 5, 7, 9, 11, 15, 20, 24]\n",
        "\n",
        "binary_search(nums, 11) -> 5\n",
        "binary_search(nums, 12) -> 'NotFound'\n",
        "```"
      ]
    },
    {
      "cell_type": "code",
      "execution_count": null,
      "id": "30d818c7-41ac-4a97-85b4-f4564d854443",
      "metadata": {
        "id": "30d818c7-41ac-4a97-85b4-f4564d854443"
      },
      "outputs": [],
      "source": [
        "nums = [0, 1, 5, 7, 9, 11, 15, 20, 24]"
      ]
    },
    {
      "cell_type": "code",
      "execution_count": null,
      "id": "2d30dc20-f632-4227-9c3a-231a30bc416e",
      "metadata": {
        "id": "2d30dc20-f632-4227-9c3a-231a30bc416e"
      },
      "outputs": [],
      "source": [
        "def binary_search(nums, value):\n",
        "  left_idx, right_idx = 0, len(nums) - 1\n",
        "  while left_idx <= right_idx:\n",
        "    center_idx = (left_idx + right_idx) // 2\n",
        "    if nums[center_idx] == value:\n",
        "      return center_idx\n",
        "    elif nums[center_idx] < value:\n",
        "      left_idx = center_idx + 1\n",
        "    else:\n",
        "      right_idx = center_idx - 1\n",
        "  return \"NotFound\"\n"
      ]
    },
    {
      "cell_type": "code",
      "execution_count": null,
      "id": "3f1833db-010c-474f-b0a8-a33623a39f27",
      "metadata": {
        "id": "3f1833db-010c-474f-b0a8-a33623a39f27",
        "colab": {
          "base_uri": "https://localhost:8080/"
        },
        "outputId": "469435cd-b52f-4387-f504-730b363e7592"
      },
      "outputs": [
        {
          "output_type": "stream",
          "name": "stdout",
          "text": [
            "5\n",
            "NotFound\n"
          ]
        }
      ],
      "source": [
        "print(binary_search(nums, 11))\n",
        "print(binary_search(nums, 12))"
      ]
    },
    {
      "cell_type": "markdown",
      "source": [
        "$a_n = a_{n-1} + a_{n-2}$\n",
        "\n",
        "a1 = 1a2 = 1\n",
        "\n",
        "a3=a2+a1=1+1=2"
      ],
      "metadata": {
        "id": "zkif2UiImuCB"
      },
      "id": "zkif2UiImuCB"
    },
    {
      "cell_type": "code",
      "execution_count": null,
      "id": "56419a9f-1557-444b-a7ae-af363333f2b5",
      "metadata": {
        "id": "56419a9f-1557-444b-a7ae-af363333f2b5"
      },
      "outputs": [],
      "source": [
        "# ハンズオンメモ\n",
        "# 再帰\n",
        "def fib(n):\n",
        "  if n <= 2:\n",
        "    return 1\n",
        "  else:\n",
        "    return fib(n-1) + fib(n-2)"
      ]
    },
    {
      "cell_type": "code",
      "source": [
        "def binary_search(nums, value, left_idx, right_idx):\n",
        "  if left_idx > right_idx:\n",
        "    return \"NotFound\"\n",
        "\n",
        "  center_idx = (left_idx + right_idx) // 2\n",
        "  if nums[center_idx] == value:\n",
        "    return center_idx\n",
        "  elif nums[center_idx] < value:\n",
        "    return binary_search(nums, value, left_idx=center_idx+1, right_idx=right_idx)\n",
        "  else:\n",
        "    return binary_search(nums, value, left_idx=left_idx, right_idx=center_idx-1)"
      ],
      "metadata": {
        "id": "VI315hUvnRr2"
      },
      "id": "VI315hUvnRr2",
      "execution_count": null,
      "outputs": []
    },
    {
      "cell_type": "code",
      "source": [
        "binary_search(nums, 11, 0, len(nums)-1)\n",
        "binary_search(nums, 14, 0, len(nums)-1)"
      ],
      "metadata": {
        "colab": {
          "base_uri": "https://localhost:8080/",
          "height": 35
        },
        "id": "p3dEEUzvoVs5",
        "outputId": "44431df7-1324-436f-d62c-fcd5827d1218"
      },
      "id": "p3dEEUzvoVs5",
      "execution_count": null,
      "outputs": [
        {
          "output_type": "execute_result",
          "data": {
            "text/plain": [
              "'NotFound'"
            ],
            "application/vnd.google.colaboratory.intrinsic+json": {
              "type": "string"
            }
          },
          "metadata": {},
          "execution_count": 15
        }
      ]
    },
    {
      "cell_type": "code",
      "source": [
        "def binary_search(nums, value):\n",
        "  def _binary_search(nums, value, left_idx, right_idx):\n",
        "    if left_idx > right_idx:\n",
        "      return \"NotFound\"\n",
        "\n",
        "    center_idx = (left_idx + right_idx) // 2\n",
        "    if nums[center_idx] == value:\n",
        "      return center_idx\n",
        "    elif nums[center_idx] < value:\n",
        "      return _binary_search(nums, value, left_idx=center_idx+1, right_idx=right_idx)\n",
        "    else:\n",
        "      return _binary_search(nums, value, left_idx=left_idx, right_idx=center_idx-1)\n",
        "\n",
        "  return _binary_search(nums, value, 0, len(nums)-1)"
      ],
      "metadata": {
        "id": "IuLZFKGwpXtG"
      },
      "id": "IuLZFKGwpXtG",
      "execution_count": null,
      "outputs": []
    },
    {
      "cell_type": "code",
      "source": [
        "binary_search(nums, 12)"
      ],
      "metadata": {
        "colab": {
          "base_uri": "https://localhost:8080/",
          "height": 35
        },
        "id": "3cWXNZBGqBfj",
        "outputId": "9699d1f3-8e9f-4cd1-ab87-d4f481646de9"
      },
      "id": "3cWXNZBGqBfj",
      "execution_count": null,
      "outputs": [
        {
          "output_type": "execute_result",
          "data": {
            "text/plain": [
              "'NotFound'"
            ],
            "application/vnd.google.colaboratory.intrinsic+json": {
              "type": "string"
            }
          },
          "metadata": {},
          "execution_count": 17
        }
      ]
    },
    {
      "cell_type": "markdown",
      "id": "1da8aa06-60df-4c51-aae6-82b2a4316e9a",
      "metadata": {
        "id": "1da8aa06-60df-4c51-aae6-82b2a4316e9a"
      },
      "source": [
        "# マージソート\n",
        "- ソートアルゴリズムの1つ\n",
        "- 分割して、ソートして、マージする(**分割統治法**)"
      ]
    },
    {
      "cell_type": "markdown",
      "id": "4c467b29-768a-4f24-8bc8-e659f1ada7b1",
      "metadata": {
        "id": "4c467b29-768a-4f24-8bc8-e659f1ada7b1"
      },
      "source": [
        "## 問題\n",
        "引数にリストを指定したときに、マージソートのアルゴリズムによってソートされたリストを返す、marge_sort関数を作成してください。\n",
        "\n",
        "```\n",
        "# 実行例\n",
        "nums = [5, 4, 1, 8, 7, 3, 2, 6]\n",
        "\n",
        "merge_sort(nums) -> [1, 2, 3, 4, 5, 6, 7, 8]\n",
        "```"
      ]
    },
    {
      "cell_type": "code",
      "execution_count": null,
      "id": "c6c9d64d-55ba-4b86-a8fe-55ec1bb41f6e",
      "metadata": {
        "id": "c6c9d64d-55ba-4b86-a8fe-55ec1bb41f6e"
      },
      "outputs": [],
      "source": [
        "nums = [5, 4, 1, 8, 7, 3, 2, 6]"
      ]
    },
    {
      "cell_type": "code",
      "execution_count": null,
      "id": "5d2a6d64-bfaf-4b79-a7b2-ba0ce3357c10",
      "metadata": {
        "id": "5d2a6d64-bfaf-4b79-a7b2-ba0ce3357c10"
      },
      "outputs": [],
      "source": [
        "def merge_sort(nums):\n",
        "  if len(nums) <= 1:\n",
        "    return nums\n",
        "  # データを分割する\n",
        "  center_idx = len(nums) // 2\n",
        "  left_nums = nums[:center_idx]\n",
        "  right_nums = nums[center_idx:]\n",
        "  \n",
        "  # 再起的にソートする\n",
        "  merge_sort(left_nums)\n",
        "  merge_sort(right_nums)\n",
        "\n",
        "  # 分割したデータをソート\n",
        "  left_idx = right_idx = idx = 0\n",
        "\n",
        "  # while文を使ってマージしていく\n",
        "  while left_idx< len(left_nums) and right_idx < len(right_nums):\n",
        "    if left_nums[left_idx] <= right_nums[right_idx]:\n",
        "      nums[idx] = left_nums[left_idx]\n",
        "      left_idx += 1\n",
        "    else:\n",
        "      nums[idx] = right_nums[right_idx]\n",
        "      right_idx += 1\n",
        "    idx += 1\n",
        "  \n",
        "  while right_idx < len(right_nums):\n",
        "    nums[idx] = right_nums[right_idx]\n",
        "    idx += 1\n",
        "    right_idx += 1\n",
        "  while left_idx < len(left_nums):\n",
        "    nums[idx] = left_nums[left_idx]\n",
        "    idx += 1\n",
        "    left_idx += 1\n",
        "    \n",
        "  return nums"
      ]
    },
    {
      "cell_type": "code",
      "execution_count": null,
      "id": "605dc8ff-46c1-491a-bed2-5f821e5b741d",
      "metadata": {
        "id": "605dc8ff-46c1-491a-bed2-5f821e5b741d",
        "colab": {
          "base_uri": "https://localhost:8080/"
        },
        "outputId": "a1e692fb-ef95-41d2-a2dc-a9aaff2acbaf"
      },
      "outputs": [
        {
          "output_type": "execute_result",
          "data": {
            "text/plain": [
              "[1, 2, 3, 4, 5, 6, 7, 8]"
            ]
          },
          "metadata": {},
          "execution_count": 9
        }
      ],
      "source": [
        "merge_sort(nums)"
      ]
    },
    {
      "cell_type": "code",
      "execution_count": null,
      "id": "0d0ffbf2-8113-4b58-baed-824658c170bd",
      "metadata": {
        "id": "0d0ffbf2-8113-4b58-baed-824658c170bd"
      },
      "outputs": [],
      "source": [
        "# ハンズオンメモ\n",
        "\n",
        "\n",
        "\n",
        "\n"
      ]
    },
    {
      "cell_type": "markdown",
      "id": "731892be-ef8b-4a8c-a5cc-6d4d96bbb8fc",
      "metadata": {
        "id": "731892be-ef8b-4a8c-a5cc-6d4d96bbb8fc"
      },
      "source": [
        "# 問題(フォーマット判定)\n",
        "引数に、{}や[], ()を含む文字列を指定したときに、\n",
        "- それらの記号のスコープが正しければ、True\n",
        "- 記号のスコープが正しくなければ、False\n",
        "\n",
        "を返す、validate_format関数を作成してください。\n",
        "\n",
        "```\n",
        "# 実行例\n",
        "chars1 = \"{'key1': 'value1', 'key2': [1, 2, 3], 'key3': (1, 2, 3)}\"\n",
        "validate_format(char1) -> True\n",
        "\n",
        "chars2 = \"{'key1': ['value1', 'key2': [1, 2, 3], 'key3': (1, 2, 3)}\"\n",
        "validate_format(char2) -> False # 余分な\"[\"が含まれている\n",
        "\n",
        "chars3 = \"{'key1': 'value1', 'key2': [1, 2, 3], 'key3': (1, 2, 3})\"\n",
        "validate_format(char3) -> False # \"}\"と\")\"の位置がおかしい\n",
        "```"
      ]
    },
    {
      "cell_type": "code",
      "execution_count": null,
      "id": "4a51878f-84a1-432f-a76c-e25f22cb3bd9",
      "metadata": {
        "id": "4a51878f-84a1-432f-a76c-e25f22cb3bd9"
      },
      "outputs": [],
      "source": [
        "chars1 = \"{'key1': 'value1', 'key2': [1, 2, 3], 'key3': (1, 2, 3)}\"\n",
        "chars2 = \"{'key1': ['value1', 'key2': [1, 2, 3], 'key3': (1, 2, 3)}\"\n",
        "chars3 = \"{'key1': 'value1', 'key2': [1, 2, 3], 'key3': (1, 2, 3})\""
      ]
    },
    {
      "cell_type": "code",
      "source": [
        "mark_stack = []\n"
      ],
      "metadata": {
        "id": "JhraXgsc1LKf"
      },
      "id": "JhraXgsc1LKf",
      "execution_count": null,
      "outputs": []
    },
    {
      "cell_type": "code",
      "source": [
        "if mark_stack:\n",
        "  print(\"something in stack\")\n",
        "else:\n",
        "  print(\"stack is empty\")"
      ],
      "metadata": {
        "colab": {
          "base_uri": "https://localhost:8080/"
        },
        "id": "kKxAARHJ1Ofc",
        "outputId": "d8b003db-8c61-44c3-81b2-9507e6f02cb3"
      },
      "id": "kKxAARHJ1Ofc",
      "execution_count": null,
      "outputs": [
        {
          "output_type": "stream",
          "name": "stdout",
          "text": [
            "stack is empty\n"
          ]
        }
      ]
    },
    {
      "cell_type": "code",
      "execution_count": null,
      "id": "959d1b76-5c6e-43ab-b1ce-4037ba93d2b1",
      "metadata": {
        "id": "959d1b76-5c6e-43ab-b1ce-4037ba93d2b1"
      },
      "outputs": [],
      "source": [
        "def validate_format(chars):\n",
        "\n",
        "  mark_dict = {\"{\": \"}\", \"[\": \"]\", \"(\": \")\"}\n",
        "  mark_stack= []\n",
        "\n",
        "  for char in chars:\n",
        "    # 記号のあたま\"{\", \"[\", \"(\" はmark_stackにappend\n",
        "    if char in mark_dict.keys():\n",
        "      mark_stack.append(mark_dict[char])\n",
        "    # 記号のおしり\"}\", \"]\", \")\"　の場合、頭とペアになればpop\n",
        "    if char in mark_dict.values():\n",
        "      # そもそもmarc_stackに要素が存在しない場合\n",
        "      if not mark_stack:\n",
        "        return False\n",
        "      elif char != mark_stack.pop():\n",
        "        return False\n",
        "\n",
        "  if mark_stack:\n",
        "    return Flase\n",
        "\n",
        "  return True\n"
      ]
    },
    {
      "cell_type": "code",
      "execution_count": null,
      "id": "2eec5946-6ec8-49fd-a7e5-48678eebcca8",
      "metadata": {
        "id": "2eec5946-6ec8-49fd-a7e5-48678eebcca8",
        "colab": {
          "base_uri": "https://localhost:8080/"
        },
        "outputId": "c09ec9e7-ebda-481e-a823-47e8be4f443a"
      },
      "outputs": [
        {
          "output_type": "stream",
          "name": "stdout",
          "text": [
            "True\n",
            "False\n",
            "False\n"
          ]
        }
      ],
      "source": [
        "print(validate_format(chars1))\n",
        "print(validate_format(chars2))\n",
        "print(validate_format(chars3))"
      ]
    },
    {
      "cell_type": "code",
      "source": [
        "chars = \"RareTECH\"\n",
        "for char in chars:\n",
        "  print(char)"
      ],
      "metadata": {
        "colab": {
          "base_uri": "https://localhost:8080/"
        },
        "id": "Tmt3m91IyUyW",
        "outputId": "ed23b8c1-7e1b-44dc-f338-5e6d014b0bcc"
      },
      "id": "Tmt3m91IyUyW",
      "execution_count": null,
      "outputs": [
        {
          "output_type": "stream",
          "name": "stdout",
          "text": [
            "R\n",
            "a\n",
            "r\n",
            "e\n",
            "T\n",
            "E\n",
            "C\n",
            "H\n"
          ]
        }
      ]
    },
    {
      "cell_type": "code",
      "source": [
        "# 補足：　スタックとキュー\n",
        "# スタック： 先入後出\n",
        "# キュー： 先入先出"
      ],
      "metadata": {
        "id": "kO48niGy46LS"
      },
      "id": "kO48niGy46LS",
      "execution_count": null,
      "outputs": []
    },
    {
      "cell_type": "code",
      "execution_count": null,
      "id": "6af904c6-d291-4b02-9d7f-f6bd13c31029",
      "metadata": {
        "id": "6af904c6-d291-4b02-9d7f-f6bd13c31029",
        "colab": {
          "base_uri": "https://localhost:8080/"
        },
        "outputId": "0c606b5f-83f7-4a09-f1b9-ea7e9b6d42b2"
      },
      "outputs": [
        {
          "output_type": "stream",
          "name": "stdout",
          "text": [
            "[]\n",
            "[1]\n",
            "[1, 2]\n",
            "[1]\n",
            "[]\n"
          ]
        }
      ],
      "source": [
        "# ハンズオンメモ\n",
        "# スタック\n",
        "l = []\n",
        "print(l)\n",
        "l.append(1)\n",
        "print(l)\n",
        "l.append(2)\n",
        "print(l)\n",
        "l.pop()\n",
        "print(l)\n",
        "l.pop()\n",
        "print(l)"
      ]
    },
    {
      "cell_type": "code",
      "source": [
        "# ハンズオンメモ\n",
        "# キュー\n",
        "l = []\n",
        "\n",
        "print(l)\n",
        "l.append(1)\n",
        "print(l)\n",
        "l.append(2)\n",
        "print(l)\n",
        "l.pop()\n",
        "print(l)\n",
        "l.pop()\n",
        "print(l)"
      ],
      "metadata": {
        "id": "goBanZ8T5ci6"
      },
      "id": "goBanZ8T5ci6",
      "execution_count": null,
      "outputs": []
    },
    {
      "cell_type": "code",
      "source": [
        "from collections import deque\n",
        "\n",
        "s = deque([])\n",
        "print(s)\n",
        "s.append(1)\n",
        "print(s)\n",
        "s.append(2)\n",
        "print(s)\n",
        "s.pop()\n",
        "print(s)\n",
        "s.pop()\n",
        "print(s)"
      ],
      "metadata": {
        "colab": {
          "base_uri": "https://localhost:8080/"
        },
        "id": "3s6Tf3XU5x_R",
        "outputId": "bc07357b-94fb-4088-85fc-f7b7c83a7397"
      },
      "id": "3s6Tf3XU5x_R",
      "execution_count": null,
      "outputs": [
        {
          "output_type": "stream",
          "name": "stdout",
          "text": [
            "deque([])\n",
            "deque([1])\n",
            "deque([1, 2])\n",
            "deque([1])\n",
            "deque([])\n"
          ]
        }
      ]
    },
    {
      "cell_type": "code",
      "source": [
        "q = deque([])\n",
        "q.append(1)\n",
        "print(q)\n",
        "q.append(2)\n",
        "print(q)\n",
        "q.popleft()\n",
        "print(q)\n",
        "q.popleft()\n",
        "print(q)"
      ],
      "metadata": {
        "colab": {
          "base_uri": "https://localhost:8080/"
        },
        "id": "ttjLkFgm6HSB",
        "outputId": "0cebe534-e476-44a2-b17d-adbedae8a56a"
      },
      "id": "ttjLkFgm6HSB",
      "execution_count": null,
      "outputs": [
        {
          "output_type": "stream",
          "name": "stdout",
          "text": [
            "deque([1])\n",
            "deque([1, 2])\n",
            "deque([2])\n",
            "deque([])\n"
          ]
        }
      ]
    },
    {
      "cell_type": "markdown",
      "id": "00fb0863-4389-427a-9b39-e65e7a163810",
      "metadata": {
        "id": "00fb0863-4389-427a-9b39-e65e7a163810"
      },
      "source": [
        "# 問題(リスト配列の足し算)\n",
        "全要素1桁の整数が格納されているリストを引数に指定したときに、全要素を連結した数値に1を足した整数を返すlist_to_int_plus_one関数を作成してください。\n",
        "\n",
        "```\n",
        "# 実行例\n",
        "nums1 = [1, 2, 3]\n",
        "list_to_int_plus_one(nums1) -> 124\n",
        "\n",
        "nums2 = [1, 2, 9]\n",
        "list_to_int_plus_one(nums2) -> 130\n",
        "\n",
        "nums3 = [1, 9, 9]\n",
        "list_to_int_plus_one(nums3) -> 200\n",
        "\n",
        "nums4 = [0, 1, 9, 9]\n",
        "list_to_int_plus_one(nums4) -> 200\n",
        "\n",
        "nums5 = [9, 9, 9, 9]\n",
        "list_to_int_plus_one(nums5) -> 10000\n",
        "\n",
        "nums6 = [0, 0, 0, 9, 9, 9, 9]\n",
        "list_to_int_plus_one(nums6) -> 10000\n",
        "```"
      ]
    },
    {
      "cell_type": "code",
      "execution_count": null,
      "id": "d6bc0082-b795-4c39-af49-e9c542753ec4",
      "metadata": {
        "id": "d6bc0082-b795-4c39-af49-e9c542753ec4"
      },
      "outputs": [],
      "source": []
    },
    {
      "cell_type": "code",
      "execution_count": null,
      "id": "8c775cfa-f981-4103-806b-e7188e8c82e5",
      "metadata": {
        "id": "8c775cfa-f981-4103-806b-e7188e8c82e5"
      },
      "outputs": [],
      "source": [
        "print(list_to_int_plus_one(nums=[1, 2, 3]))\n",
        "print(list_to_int_plus_one(nums=[1, 2, 9]))\n",
        "print(list_to_int_plus_one(nums=[1, 9, 9]))\n",
        "print(list_to_int_plus_one(nums=[0, 1, 9, 9]))\n",
        "print(list_to_int_plus_one(nums=[9, 9, 9, 9]))\n",
        "print(list_to_int_plus_one(nums=[0, 0, 0, 9, 9, 9, 9]))"
      ]
    },
    {
      "cell_type": "code",
      "execution_count": null,
      "id": "b60c27a1-a723-406d-81cf-9d06e9bea74b",
      "metadata": {
        "id": "b60c27a1-a723-406d-81cf-9d06e9bea74b"
      },
      "outputs": [],
      "source": [
        "# ハンズオンメモ\n",
        "\n",
        "\n",
        "\n",
        "\n",
        "\n"
      ]
    }
  ],
  "metadata": {
    "kernelspec": {
      "display_name": "Python 3 (ipykernel)",
      "language": "python",
      "name": "python3"
    },
    "language_info": {
      "codemirror_mode": {
        "name": "ipython",
        "version": 3
      },
      "file_extension": ".py",
      "mimetype": "text/x-python",
      "name": "python",
      "nbconvert_exporter": "python",
      "pygments_lexer": "ipython3",
      "version": "3.9.12"
    },
    "colab": {
      "provenance": [],
      "include_colab_link": true
    }
  },
  "nbformat": 4,
  "nbformat_minor": 5
}