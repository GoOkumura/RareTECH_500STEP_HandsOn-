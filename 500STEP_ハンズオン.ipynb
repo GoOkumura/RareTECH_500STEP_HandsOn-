{
  "nbformat": 4,
  "nbformat_minor": 0,
  "metadata": {
    "colab": {
      "provenance": [],
      "authorship_tag": "ABX9TyNa9u9s4MMLrB5Hcx3d8Erz",
      "include_colab_link": true
    },
    "kernelspec": {
      "name": "python3",
      "display_name": "Python 3"
    },
    "language_info": {
      "name": "python"
    }
  },
  "cells": [
    {
      "cell_type": "markdown",
      "metadata": {
        "id": "view-in-github",
        "colab_type": "text"
      },
      "source": [
        "<a href=\"https://colab.research.google.com/github/GoOkumura/RareTECH_500STEP_HandsOn-/blob/main/500STEP_%E3%83%8F%E3%83%B3%E3%82%BA%E3%82%AA%E3%83%B3.ipynb\" target=\"_parent\"><img src=\"https://colab.research.google.com/assets/colab-badge.svg\" alt=\"Open In Colab\"/></a>"
      ]
    },
    {
      "cell_type": "markdown",
      "source": [],
      "metadata": {
        "id": "Yke80yNdzJrs"
      }
    },
    {
      "cell_type": "markdown",
      "source": [
        "# **FizzBuzzに挑戦**"
      ],
      "metadata": {
        "id": "9nt4IClazMGH"
      }
    },
    {
      "cell_type": "code",
      "source": [
        "A = \"挑戦！\"\n",
        "\n",
        "def FizzBuzz():\n",
        "\n",
        "  for i in range (1, 101):\n",
        "    if i % 15 == 0:\n",
        "      print(\"FizzBuzz\")\n",
        "    elif i % 3 == 0:\n",
        "      print(\"Fizz\")\n",
        "    elif i % 5 == 0:\n",
        "      print(\"Buzz\")\n",
        "    else:\n",
        "      print(i)\n",
        "\n",
        "Q = input(\"FizzBuzzに？ ： \")\n",
        "if Q == A:\n",
        "  FizzBuzz()\n",
        "  print(\"ぐわし！！\")\n",
        "else:\n",
        "  print(\"あっちょんぶりけ！！\")"
      ],
      "metadata": {
        "id": "_Ypi8kM-zIvi"
      },
      "execution_count": null,
      "outputs": []
    },
    {
      "cell_type": "markdown",
      "source": [
        "# **九九の段を出力するプログラムを作成**"
      ],
      "metadata": {
        "id": "L6UdS1VS44Ju"
      }
    },
    {
      "cell_type": "code",
      "execution_count": null,
      "metadata": {
        "id": "0x1N5jrH4gir"
      },
      "outputs": [],
      "source": [
        "num = int(input(\"何の段を出力しますか？\"))\n",
        "print(\"「{}」の段を出力します。\".format(num))\n",
        "\n",
        "for i in range(1, 10):\n",
        "  print(num * i, end=\" => \")\n",
        "  print(\"「{}×{}です」\".format(num, i))\n"
      ]
    },
    {
      "cell_type": "markdown",
      "source": [
        "# **3の倍数の時に、fooと出力するプログラムを作成**"
      ],
      "metadata": {
        "id": "KIBmPXf3qIUQ"
      }
    },
    {
      "cell_type": "code",
      "source": [
        "for i in range(1, 10):\n",
        "  if i % 3 == 0:\n",
        "    print(\"foo\")\n",
        "  else:\n",
        "    print(i)"
      ],
      "metadata": {
        "id": "JRl8LquYqCM3"
      },
      "execution_count": null,
      "outputs": []
    },
    {
      "cell_type": "code",
      "source": [
        "num = int(input('数字を入力して下さい'))\n",
        "\n",
        "if num % 3 == 0:\n",
        "  print('foo')\n",
        "else:\n",
        "  print('i')"
      ],
      "metadata": {
        "id": "s-9H4Do0qcoP"
      },
      "execution_count": null,
      "outputs": []
    },
    {
      "cell_type": "markdown",
      "source": [
        "# **二つの値を入力し、その数の和を返すプログラムを作成**"
      ],
      "metadata": {
        "id": "nGxgRpgss2rL"
      }
    },
    {
      "cell_type": "code",
      "source": [
        "num1 = int(input('1つ目の値を入力して下さい : '))\n",
        "num2 = int(input('2つ目の値を入力して下さい : '))\n",
        "\n",
        "print(num1 + num2)"
      ],
      "metadata": {
        "id": "2wP8Qb-lqz7n"
      },
      "execution_count": null,
      "outputs": []
    },
    {
      "cell_type": "code",
      "source": [
        "a, b = (int(x) for x in input('空白を開けて数字を2つ入力して下さい').split())\n",
        "print(a + b)"
      ],
      "metadata": {
        "id": "qTakRL_7tXHr"
      },
      "execution_count": null,
      "outputs": []
    },
    {
      "cell_type": "markdown",
      "source": [
        "# **2つの値を入力して変数に格納し、変数の内容を交換して画面に表示するプログラムを作成**"
      ],
      "metadata": {
        "id": "lT3FHblguZLh"
      }
    },
    {
      "cell_type": "code",
      "source": [
        "num1 = int(input('1つ目の値を入力して下さい : num1 = '))\n",
        "num2 = int(input('2つ目の値を入力して下さい : num2 = '))\n",
        "\n",
        "x = num1\n",
        "num1 = num2\n",
        "num2 = x\n",
        "\n",
        "print(num1, num2)"
      ],
      "metadata": {
        "id": "kd3sgD3-t3F3"
      },
      "execution_count": null,
      "outputs": []
    },
    {
      "cell_type": "code",
      "source": [
        "num1 = int(input('1つ目の値を入力して下さい : num1 = '))\n",
        "num2 = int(input('2つ目の値を入力して下さい : num2 = '))\n",
        "print(num1, num2)\n",
        "\n",
        "def change(num1, num2):\n",
        "  x = num1\n",
        "  num1 = num2\n",
        "  num2 = x\n",
        "  print(num1, num2)\n",
        "change(num1, num2)"
      ],
      "metadata": {
        "id": "OisD9sjV42A6"
      },
      "execution_count": null,
      "outputs": []
    },
    {
      "cell_type": "markdown",
      "source": [
        "# 「*」を使って、直角三角形を下記のように画面に表示するプログラムを作成せよ。\n"
      ],
      "metadata": {
        "id": "KYb_RH4c58G6"
      }
    },
    {
      "cell_type": "code",
      "source": [
        "num = int(input('高さを入力して下さい : '))\n",
        "\n",
        "h = int(num)\n",
        "for i in range(h + 1):\n",
        "  for j in range(i):\n",
        "    print('*', end=\"\")\n",
        "  print()"
      ],
      "metadata": {
        "id": "nCOzCAvI5z3l"
      },
      "execution_count": null,
      "outputs": []
    },
    {
      "cell_type": "code",
      "source": [
        "num = int(input('高さを入力して下さい : '))\n",
        "\n",
        "h = int(num)\n",
        "i = 1\n",
        "while i <= h:\n",
        "  j = 1\n",
        "  while j <= i:\n",
        "    print('*', end=\"\")\n",
        "    j = j + 1\n",
        "  print()\n",
        "  i = i + 1"
      ],
      "metadata": {
        "id": "mSzcHp0wxcQd"
      },
      "execution_count": null,
      "outputs": []
    },
    {
      "cell_type": "markdown",
      "source": [
        "**10以下の素数の和は 2 + 3 + 5 + 7 = 17 である。**\n",
        "# 200以下の全ての素数の和を求めよ."
      ],
      "metadata": {
        "id": "a7SSULo7y4-i"
      }
    },
    {
      "cell_type": "code",
      "source": [
        "num = 0\n",
        "limit = 200\n",
        "for i in range(2, limit):\n",
        "  for j in range(2, i):\n",
        "    if i % j == 0:\n",
        "      break\n",
        "  else:\n",
        "    num = num + i\n",
        "    print(i)\n",
        "print('------------')\n",
        "print(num)\n"
      ],
      "metadata": {
        "id": "_ROxs0E_x3Et"
      },
      "execution_count": null,
      "outputs": []
    },
    {
      "cell_type": "markdown",
      "source": [
        "# **10個の数を入力し「前回と同じ数を入力した回数」を表示するプログラムを作成せよ。**\n",
        "\n",
        "3,3,5,6,6と入力すると、2回と表示する。\n",
        "\n",
        "10回連続したらperfectと返しましょう。"
      ],
      "metadata": {
        "id": "9jLsOCQ4i59d"
      }
    },
    {
      "cell_type": "code",
      "source": [
        "x = 0 # 前回の値\n",
        "v = 1 # 連続した数\n",
        "for i in range(0, 10):\n",
        "  j = int(input(\"数字を入力して下さい\"))\n",
        "  if j == x:\n",
        "    v = v + 1 # 連続した数\n",
        "    print(\"{}回連続\".format(v))\n",
        "    if v == 10:\n",
        "      print('perfect!!')\n",
        "  else:\n",
        "    v = 1 # 連続しなかったので値を1に戻す。\n",
        "    print('連続なし')\n",
        "  x = j # 今回inputした値を記録"
      ],
      "metadata": {
        "id": "NMwSt63z1cR6"
      },
      "execution_count": null,
      "outputs": []
    },
    {
      "cell_type": "markdown",
      "source": [
        "# **入力した10個の数の中に5があるか調べるプログラムを作成せよ。**"
      ],
      "metadata": {
        "id": "so0y3kah403u"
      }
    },
    {
      "cell_type": "code",
      "source": [
        "x = list(map(int, input()))\n",
        "for i in range(len(x)):\n",
        "  j = x[i]\n",
        "  if j == 5:\n",
        "    print(\"5です！！\")\n",
        "  else:\n",
        "    print('5じゃないです')"
      ],
      "metadata": {
        "id": "8tXEBH4e40cG"
      },
      "execution_count": null,
      "outputs": []
    },
    {
      "cell_type": "markdown",
      "source": [
        "# **足し算と引き算をする電卓を作成せよ。**\n",
        "\n",
        "コマンドラインに数字を入力すると値を表示する。"
      ],
      "metadata": {
        "id": "wrvfZKLP8GB7"
      }
    },
    {
      "cell_type": "code",
      "source": [
        "x = int(input('1つ目の数字を入力して下さい : '))\n",
        "y = int(input('2つ目の数字を入力して下さい : '))\n",
        "\n",
        "add = x + y\n",
        "sub = x - y\n",
        "\n",
        "print(('足し算の結果は \"{}\" です').format(add))\n",
        "print(('引き算の結果は \"{}\" です').format(sub))"
      ],
      "metadata": {
        "id": "aV6fMIYE5wid"
      },
      "execution_count": null,
      "outputs": []
    },
    {
      "cell_type": "markdown",
      "source": [
        "# **九九の表を作るプログラムを作成せよ。**\n",
        "\n",
        "式と答えも表示せよ。"
      ],
      "metadata": {
        "id": "HcPDeufzymzq"
      }
    },
    {
      "cell_type": "code",
      "source": [
        "i = 1\n",
        "while i <= 9 :\n",
        "  j = 1\n",
        "  while j <= 9:\n",
        "    if j == 1:\n",
        "      print(\"--------------\")\n",
        "      print(\"{}の段です。\".format(i))\n",
        "    x = i * j\n",
        "    print(\"{}×{}={}  \".format(i, j, x), end=\"\")\n",
        "    if j == 9:\n",
        "      print()\n",
        "    j = j +1\n",
        "  i = i + 1\n"
      ],
      "metadata": {
        "id": "pWUGilCW8o00",
        "colab": {
          "base_uri": "https://localhost:8080/"
        },
        "outputId": "80b5c025-cbef-4460-f998-b2f89a535c36"
      },
      "execution_count": 39,
      "outputs": [
        {
          "output_type": "stream",
          "name": "stdout",
          "text": [
            "--------------\n",
            "1の段です。\n",
            "1×1=1  1×2=2  1×3=3  1×4=4  1×5=5  1×6=6  1×7=7  1×8=8  1×9=9  \n",
            "--------------\n",
            "2の段です。\n",
            "2×1=2  2×2=4  2×3=6  2×4=8  2×5=10  2×6=12  2×7=14  2×8=16  2×9=18  \n",
            "--------------\n",
            "3の段です。\n",
            "3×1=3  3×2=6  3×3=9  3×4=12  3×5=15  3×6=18  3×7=21  3×8=24  3×9=27  \n",
            "--------------\n",
            "4の段です。\n",
            "4×1=4  4×2=8  4×3=12  4×4=16  4×5=20  4×6=24  4×7=28  4×8=32  4×9=36  \n",
            "--------------\n",
            "5の段です。\n",
            "5×1=5  5×2=10  5×3=15  5×4=20  5×5=25  5×6=30  5×7=35  5×8=40  5×9=45  \n",
            "--------------\n",
            "6の段です。\n",
            "6×1=6  6×2=12  6×3=18  6×4=24  6×5=30  6×6=36  6×7=42  6×8=48  6×9=54  \n",
            "--------------\n",
            "7の段です。\n",
            "7×1=7  7×2=14  7×3=21  7×4=28  7×5=35  7×6=42  7×7=49  7×8=56  7×9=63  \n",
            "--------------\n",
            "8の段です。\n",
            "8×1=8  8×2=16  8×3=24  8×4=32  8×5=40  8×6=48  8×7=56  8×8=64  8×9=72  \n",
            "--------------\n",
            "9の段です。\n",
            "9×1=9  9×2=18  9×3=27  9×4=36  9×5=45  9×6=54  9×7=63  9×8=72  9×9=81  \n"
          ]
        }
      ]
    }
  ]
}