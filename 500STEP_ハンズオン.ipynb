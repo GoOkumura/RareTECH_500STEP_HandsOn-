{
  "nbformat": 4,
  "nbformat_minor": 0,
  "metadata": {
    "colab": {
      "provenance": [],
      "authorship_tag": "ABX9TyNSCMm3chFh5kVjqxxfif8d",
      "include_colab_link": true
    },
    "kernelspec": {
      "name": "python3",
      "display_name": "Python 3"
    },
    "language_info": {
      "name": "python"
    }
  },
  "cells": [
    {
      "cell_type": "markdown",
      "metadata": {
        "id": "view-in-github",
        "colab_type": "text"
      },
      "source": [
        "<a href=\"https://colab.research.google.com/github/GoOkumura/RareTECH_500STEP_HandsOn-/blob/main/500STEP_%E3%83%8F%E3%83%B3%E3%82%BA%E3%82%AA%E3%83%B3.ipynb\" target=\"_parent\"><img src=\"https://colab.research.google.com/assets/colab-badge.svg\" alt=\"Open In Colab\"/></a>"
      ]
    },
    {
      "cell_type": "markdown",
      "source": [],
      "metadata": {
        "id": "Yke80yNdzJrs"
      }
    },
    {
      "cell_type": "markdown",
      "source": [
        "# **FizzBuzzに挑戦**"
      ],
      "metadata": {
        "id": "9nt4IClazMGH"
      }
    },
    {
      "cell_type": "code",
      "source": [
        "A = \"挑戦！\"\n",
        "\n",
        "def FizzBuzz():\n",
        "\n",
        "  for i in range (1, 101):\n",
        "    if i % 15 == 0:\n",
        "      print(\"FizzBuzz\")\n",
        "    elif i % 3 == 0:\n",
        "      print(\"Fizz\")\n",
        "    elif i % 5 == 0:\n",
        "      print(\"Buzz\")\n",
        "    else:\n",
        "      print(i)\n",
        "\n",
        "Q = input(\"FizzBuzzに？ ： \")\n",
        "if Q == A:\n",
        "  FizzBuzz()\n",
        "  print(\"ぐわし！！\")\n",
        "else:\n",
        "  print(\"あっちょんぶりけ！！\")"
      ],
      "metadata": {
        "colab": {
          "base_uri": "https://localhost:8080/"
        },
        "id": "_Ypi8kM-zIvi",
        "outputId": "3e9b8e5d-6b01-4916-8267-9cdc17497650"
      },
      "execution_count": 28,
      "outputs": [
        {
          "output_type": "stream",
          "name": "stdout",
          "text": [
            "FizzBuzzに？ ： 挑戦！\n",
            "1\n",
            "2\n",
            "Fizz\n",
            "4\n",
            "Buzz\n",
            "Fizz\n",
            "7\n",
            "8\n",
            "Fizz\n",
            "Buzz\n",
            "11\n",
            "Fizz\n",
            "13\n",
            "14\n",
            "FizzBuzz\n",
            "16\n",
            "17\n",
            "Fizz\n",
            "19\n",
            "Buzz\n",
            "Fizz\n",
            "22\n",
            "23\n",
            "Fizz\n",
            "Buzz\n",
            "26\n",
            "Fizz\n",
            "28\n",
            "29\n",
            "FizzBuzz\n",
            "31\n",
            "32\n",
            "Fizz\n",
            "34\n",
            "Buzz\n",
            "Fizz\n",
            "37\n",
            "38\n",
            "Fizz\n",
            "Buzz\n",
            "41\n",
            "Fizz\n",
            "43\n",
            "44\n",
            "FizzBuzz\n",
            "46\n",
            "47\n",
            "Fizz\n",
            "49\n",
            "Buzz\n",
            "Fizz\n",
            "52\n",
            "53\n",
            "Fizz\n",
            "Buzz\n",
            "56\n",
            "Fizz\n",
            "58\n",
            "59\n",
            "FizzBuzz\n",
            "61\n",
            "62\n",
            "Fizz\n",
            "64\n",
            "Buzz\n",
            "Fizz\n",
            "67\n",
            "68\n",
            "Fizz\n",
            "Buzz\n",
            "71\n",
            "Fizz\n",
            "73\n",
            "74\n",
            "FizzBuzz\n",
            "76\n",
            "77\n",
            "Fizz\n",
            "79\n",
            "Buzz\n",
            "Fizz\n",
            "82\n",
            "83\n",
            "Fizz\n",
            "Buzz\n",
            "86\n",
            "Fizz\n",
            "88\n",
            "89\n",
            "FizzBuzz\n",
            "91\n",
            "92\n",
            "Fizz\n",
            "94\n",
            "Buzz\n",
            "Fizz\n",
            "97\n",
            "98\n",
            "Fizz\n",
            "Buzz\n",
            "ぐわし！！\n"
          ]
        }
      ]
    },
    {
      "cell_type": "markdown",
      "source": [
        "# **九九の段を出力するプログラムを作成**"
      ],
      "metadata": {
        "id": "L6UdS1VS44Ju"
      }
    },
    {
      "cell_type": "code",
      "execution_count": 21,
      "metadata": {
        "colab": {
          "base_uri": "https://localhost:8080/"
        },
        "id": "0x1N5jrH4gir",
        "outputId": "9a9c45d4-2531-4997-93dc-f59d67fa5870"
      },
      "outputs": [
        {
          "output_type": "stream",
          "name": "stdout",
          "text": [
            "何の段を出力しますか？3\n",
            "「3」の段を出力します。\n",
            "3 => 「3×1です」\n",
            "6 => 「3×2です」\n",
            "9 => 「3×3です」\n",
            "12 => 「3×4です」\n",
            "15 => 「3×5です」\n",
            "18 => 「3×6です」\n",
            "21 => 「3×7です」\n",
            "24 => 「3×8です」\n",
            "27 => 「3×9です」\n"
          ]
        }
      ],
      "source": [
        "num = int(input(\"何の段を出力しますか？\"))\n",
        "print(\"「{}」の段を出力します。\".format(num))\n",
        "\n",
        "for i in range(1, 10):\n",
        "  print(num * i, end=\" => \")\n",
        "  print(\"「{}×{}です」\".format(num, i))\n"
      ]
    },
    {
      "cell_type": "code",
      "source": [
        "i = 1\n",
        "while i < 10:\n",
        "  j = 1\n",
        "  while j < 10:\n",
        "    print(i * j, end=\" \")\n",
        "    j = j +1\n",
        "  print()\n",
        "  i = i + 1"
      ],
      "metadata": {
        "id": "iPChQLxd8-rr",
        "colab": {
          "base_uri": "https://localhost:8080/"
        },
        "outputId": "8d58b158-c7ef-4e9e-b15a-a061cc986a26"
      },
      "execution_count": 8,
      "outputs": [
        {
          "output_type": "stream",
          "name": "stdout",
          "text": [
            "1 2 3 4 5 6 7 8 9 \n",
            "2 4 6 8 10 12 14 16 18 \n",
            "3 6 9 12 15 18 21 24 27 \n",
            "4 8 12 16 20 24 28 32 36 \n",
            "5 10 15 20 25 30 35 40 45 \n",
            "6 12 18 24 30 36 42 48 54 \n",
            "7 14 21 28 35 42 49 56 63 \n",
            "8 16 24 32 40 48 56 64 72 \n",
            "9 18 27 36 45 54 63 72 81 \n"
          ]
        }
      ]
    },
    {
      "cell_type": "markdown",
      "source": [
        "# **3の倍数の時に、fooと出力するプログラムを作成**"
      ],
      "metadata": {
        "id": "KIBmPXf3qIUQ"
      }
    },
    {
      "cell_type": "code",
      "source": [
        "for i in range(1, 10):\n",
        "  if i % 3 == 0:\n",
        "    print(\"foo\")\n",
        "  else:\n",
        "    print(i)"
      ],
      "metadata": {
        "colab": {
          "base_uri": "https://localhost:8080/"
        },
        "id": "JRl8LquYqCM3",
        "outputId": "30b0ecba-207e-4f51-e6b9-fed09ca08872"
      },
      "execution_count": 10,
      "outputs": [
        {
          "output_type": "stream",
          "name": "stdout",
          "text": [
            "1\n",
            "2\n",
            "foo\n",
            "4\n",
            "5\n",
            "foo\n",
            "7\n",
            "8\n",
            "foo\n"
          ]
        }
      ]
    },
    {
      "cell_type": "code",
      "source": [
        "num = int(input('数字を入力して下さい'))\n",
        "\n",
        "if num % 3 == 0:\n",
        "  print('foo')\n",
        "else:\n",
        "  print('i')"
      ],
      "metadata": {
        "colab": {
          "base_uri": "https://localhost:8080/"
        },
        "id": "s-9H4Do0qcoP",
        "outputId": "8ff9bb19-faf9-45c4-930c-783593f6cf29"
      },
      "execution_count": 11,
      "outputs": [
        {
          "output_type": "stream",
          "name": "stdout",
          "text": [
            "数字を入力して下さい3\n",
            "foo\n"
          ]
        }
      ]
    },
    {
      "cell_type": "markdown",
      "source": [
        "# **二つの値を入力し、その数の和を返すプログラムを作成**"
      ],
      "metadata": {
        "id": "nGxgRpgss2rL"
      }
    },
    {
      "cell_type": "code",
      "source": [
        "num1 = int(input('1つ目の値を入力して下さい : '))\n",
        "num2 = int(input('2つ目の値を入力して下さい : '))\n",
        "\n",
        "print(num1 + num2)"
      ],
      "metadata": {
        "colab": {
          "base_uri": "https://localhost:8080/"
        },
        "id": "2wP8Qb-lqz7n",
        "outputId": "19ef080c-7b9a-4547-8d5f-366067b572ad"
      },
      "execution_count": 22,
      "outputs": [
        {
          "output_type": "stream",
          "name": "stdout",
          "text": [
            "1つ目の値を入力して下さい : 3\n",
            "2つ目の値を入力して下さい : 3\n",
            "6\n"
          ]
        }
      ]
    },
    {
      "cell_type": "code",
      "source": [
        "a, b = (int(x) for x in input('空白を開けて数字を2つ入力して下さい').split())\n",
        "print(a + b)"
      ],
      "metadata": {
        "colab": {
          "base_uri": "https://localhost:8080/"
        },
        "id": "qTakRL_7tXHr",
        "outputId": "f2e8f797-447d-443b-a0b8-bb7b78b3a392"
      },
      "execution_count": 26,
      "outputs": [
        {
          "output_type": "stream",
          "name": "stdout",
          "text": [
            "空白を開けて数字を2つ入力して下さい3 5\n",
            "8\n"
          ]
        }
      ]
    },
    {
      "cell_type": "markdown",
      "source": [
        "# **2つの値を入力して変数に格納し、変数の内容を交換して画面に表示するプログラムを作成**"
      ],
      "metadata": {
        "id": "lT3FHblguZLh"
      }
    },
    {
      "cell_type": "code",
      "source": [],
      "metadata": {
        "id": "kd3sgD3-t3F3"
      },
      "execution_count": null,
      "outputs": []
    }
  ]
}