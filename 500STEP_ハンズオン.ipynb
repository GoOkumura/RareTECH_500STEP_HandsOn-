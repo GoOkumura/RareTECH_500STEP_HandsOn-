{
  "nbformat": 4,
  "nbformat_minor": 0,
  "metadata": {
    "colab": {
      "provenance": [],
      "authorship_tag": "ABX9TyMh/pFijfijJroOg9nWtZgs",
      "include_colab_link": true
    },
    "kernelspec": {
      "name": "python3",
      "display_name": "Python 3"
    },
    "language_info": {
      "name": "python"
    }
  },
  "cells": [
    {
      "cell_type": "markdown",
      "metadata": {
        "id": "view-in-github",
        "colab_type": "text"
      },
      "source": [
        "<a href=\"https://colab.research.google.com/github/GoOkumura/RareTECH_500STEP_HandsOn-/blob/main/500STEP_%E3%83%8F%E3%83%B3%E3%82%BA%E3%82%AA%E3%83%B3.ipynb\" target=\"_parent\"><img src=\"https://colab.research.google.com/assets/colab-badge.svg\" alt=\"Open In Colab\"/></a>"
      ]
    },
    {
      "cell_type": "markdown",
      "source": [],
      "metadata": {
        "id": "Yke80yNdzJrs"
      }
    },
    {
      "cell_type": "markdown",
      "source": [
        "# **FizzBuzzに挑戦**"
      ],
      "metadata": {
        "id": "9nt4IClazMGH"
      }
    },
    {
      "cell_type": "code",
      "source": [
        "A = \"挑戦！\"\n",
        "\n",
        "def FizzBuzz():\n",
        "\n",
        "  for i in range (1, 101):\n",
        "    if i % 15 == 0:\n",
        "      print(\"FizzBuzz\")\n",
        "    elif i % 3 == 0:\n",
        "      print(\"Fizz\")\n",
        "    elif i % 5 == 0:\n",
        "      print(\"Buzz\")\n",
        "    else:\n",
        "      print(i)\n",
        "\n",
        "Q = input(\"FizzBuzzに？ ： \")\n",
        "if Q == A:\n",
        "  FizzBuzz()\n",
        "  print(\"ぐわし！！\")\n",
        "else:\n",
        "  print(\"あっちょんぶりけ！！\")"
      ],
      "metadata": {
        "colab": {
          "base_uri": "https://localhost:8080/"
        },
        "id": "_Ypi8kM-zIvi",
        "outputId": "9d597a5e-eea7-475c-f11d-0859453a4341"
      },
      "execution_count": null,
      "outputs": [
        {
          "output_type": "stream",
          "name": "stdout",
          "text": [
            "FizzBuzzに？ ： 挑戦！\n",
            "1\n",
            "2\n",
            "Fizz\n",
            "4\n",
            "Buzz\n",
            "Fizz\n",
            "7\n",
            "8\n",
            "Fizz\n",
            "Buzz\n",
            "11\n",
            "Fizz\n",
            "13\n",
            "14\n",
            "FizzBuzz\n",
            "16\n",
            "17\n",
            "Fizz\n",
            "19\n",
            "Buzz\n",
            "Fizz\n",
            "22\n",
            "23\n",
            "Fizz\n",
            "Buzz\n",
            "26\n",
            "Fizz\n",
            "28\n",
            "29\n",
            "FizzBuzz\n",
            "31\n",
            "32\n",
            "Fizz\n",
            "34\n",
            "Buzz\n",
            "Fizz\n",
            "37\n",
            "38\n",
            "Fizz\n",
            "Buzz\n",
            "41\n",
            "Fizz\n",
            "43\n",
            "44\n",
            "FizzBuzz\n",
            "46\n",
            "47\n",
            "Fizz\n",
            "49\n",
            "Buzz\n",
            "Fizz\n",
            "52\n",
            "53\n",
            "Fizz\n",
            "Buzz\n",
            "56\n",
            "Fizz\n",
            "58\n",
            "59\n",
            "FizzBuzz\n",
            "61\n",
            "62\n",
            "Fizz\n",
            "64\n",
            "Buzz\n",
            "Fizz\n",
            "67\n",
            "68\n",
            "Fizz\n",
            "Buzz\n",
            "71\n",
            "Fizz\n",
            "73\n",
            "74\n",
            "FizzBuzz\n",
            "76\n",
            "77\n",
            "Fizz\n",
            "79\n",
            "Buzz\n",
            "Fizz\n",
            "82\n",
            "83\n",
            "Fizz\n",
            "Buzz\n",
            "86\n",
            "Fizz\n",
            "88\n",
            "89\n",
            "FizzBuzz\n",
            "91\n",
            "92\n",
            "Fizz\n",
            "94\n",
            "Buzz\n",
            "Fizz\n",
            "97\n",
            "98\n",
            "Fizz\n",
            "Buzz\n",
            "ぐわし！！\n"
          ]
        }
      ]
    },
    {
      "cell_type": "markdown",
      "source": [
        "# **九九の段を出力するプログラムを作成**"
      ],
      "metadata": {
        "id": "L6UdS1VS44Ju"
      }
    },
    {
      "cell_type": "code",
      "execution_count": null,
      "metadata": {
        "colab": {
          "base_uri": "https://localhost:8080/"
        },
        "id": "0x1N5jrH4gir",
        "outputId": "9a9c45d4-2531-4997-93dc-f59d67fa5870"
      },
      "outputs": [
        {
          "output_type": "stream",
          "name": "stdout",
          "text": [
            "何の段を出力しますか？3\n",
            "「3」の段を出力します。\n",
            "3 => 「3×1です」\n",
            "6 => 「3×2です」\n",
            "9 => 「3×3です」\n",
            "12 => 「3×4です」\n",
            "15 => 「3×5です」\n",
            "18 => 「3×6です」\n",
            "21 => 「3×7です」\n",
            "24 => 「3×8です」\n",
            "27 => 「3×9です」\n"
          ]
        }
      ],
      "source": [
        "num = int(input(\"何の段を出力しますか？\"))\n",
        "print(\"「{}」の段を出力します。\".format(num))\n",
        "\n",
        "for i in range(1, 10):\n",
        "  print(num * i, end=\" => \")\n",
        "  print(\"「{}×{}です」\".format(num, i))\n"
      ]
    },
    {
      "cell_type": "code",
      "source": [
        "i = 1\n",
        "while i < 10:\n",
        "  j = 1\n",
        "  while j < 10:\n",
        "    print(i * j, end=\" \")\n",
        "    j = j +1\n",
        "  print()\n",
        "  i = i + 1"
      ],
      "metadata": {
        "id": "iPChQLxd8-rr",
        "colab": {
          "base_uri": "https://localhost:8080/"
        },
        "outputId": "8d58b158-c7ef-4e9e-b15a-a061cc986a26"
      },
      "execution_count": null,
      "outputs": [
        {
          "output_type": "stream",
          "name": "stdout",
          "text": [
            "1 2 3 4 5 6 7 8 9 \n",
            "2 4 6 8 10 12 14 16 18 \n",
            "3 6 9 12 15 18 21 24 27 \n",
            "4 8 12 16 20 24 28 32 36 \n",
            "5 10 15 20 25 30 35 40 45 \n",
            "6 12 18 24 30 36 42 48 54 \n",
            "7 14 21 28 35 42 49 56 63 \n",
            "8 16 24 32 40 48 56 64 72 \n",
            "9 18 27 36 45 54 63 72 81 \n"
          ]
        }
      ]
    },
    {
      "cell_type": "markdown",
      "source": [
        "# **3の倍数の時に、fooと出力するプログラムを作成**"
      ],
      "metadata": {
        "id": "KIBmPXf3qIUQ"
      }
    },
    {
      "cell_type": "code",
      "source": [
        "for i in range(1, 10):\n",
        "  if i % 3 == 0:\n",
        "    print(\"foo\")\n",
        "  else:\n",
        "    print(i)"
      ],
      "metadata": {
        "colab": {
          "base_uri": "https://localhost:8080/"
        },
        "id": "JRl8LquYqCM3",
        "outputId": "30b0ecba-207e-4f51-e6b9-fed09ca08872"
      },
      "execution_count": null,
      "outputs": [
        {
          "output_type": "stream",
          "name": "stdout",
          "text": [
            "1\n",
            "2\n",
            "foo\n",
            "4\n",
            "5\n",
            "foo\n",
            "7\n",
            "8\n",
            "foo\n"
          ]
        }
      ]
    },
    {
      "cell_type": "code",
      "source": [
        "num = int(input('数字を入力して下さい'))\n",
        "\n",
        "if num % 3 == 0:\n",
        "  print('foo')\n",
        "else:\n",
        "  print('i')"
      ],
      "metadata": {
        "colab": {
          "base_uri": "https://localhost:8080/"
        },
        "id": "s-9H4Do0qcoP",
        "outputId": "8ff9bb19-faf9-45c4-930c-783593f6cf29"
      },
      "execution_count": null,
      "outputs": [
        {
          "output_type": "stream",
          "name": "stdout",
          "text": [
            "数字を入力して下さい3\n",
            "foo\n"
          ]
        }
      ]
    },
    {
      "cell_type": "markdown",
      "source": [
        "# **二つの値を入力し、その数の和を返すプログラムを作成**"
      ],
      "metadata": {
        "id": "nGxgRpgss2rL"
      }
    },
    {
      "cell_type": "code",
      "source": [
        "num1 = int(input('1つ目の値を入力して下さい : '))\n",
        "num2 = int(input('2つ目の値を入力して下さい : '))\n",
        "\n",
        "print(num1 + num2)"
      ],
      "metadata": {
        "colab": {
          "base_uri": "https://localhost:8080/"
        },
        "id": "2wP8Qb-lqz7n",
        "outputId": "19ef080c-7b9a-4547-8d5f-366067b572ad"
      },
      "execution_count": null,
      "outputs": [
        {
          "output_type": "stream",
          "name": "stdout",
          "text": [
            "1つ目の値を入力して下さい : 3\n",
            "2つ目の値を入力して下さい : 3\n",
            "6\n"
          ]
        }
      ]
    },
    {
      "cell_type": "code",
      "source": [
        "a, b = (int(x) for x in input('空白を開けて数字を2つ入力して下さい').split())\n",
        "print(a + b)"
      ],
      "metadata": {
        "colab": {
          "base_uri": "https://localhost:8080/"
        },
        "id": "qTakRL_7tXHr",
        "outputId": "f2e8f797-447d-443b-a0b8-bb7b78b3a392"
      },
      "execution_count": null,
      "outputs": [
        {
          "output_type": "stream",
          "name": "stdout",
          "text": [
            "空白を開けて数字を2つ入力して下さい3 5\n",
            "8\n"
          ]
        }
      ]
    },
    {
      "cell_type": "markdown",
      "source": [
        "# **2つの値を入力して変数に格納し、変数の内容を交換して画面に表示するプログラムを作成**"
      ],
      "metadata": {
        "id": "lT3FHblguZLh"
      }
    },
    {
      "cell_type": "code",
      "source": [
        "num1 = int(input('1つ目の値を入力して下さい : num1 = '))\n",
        "num2 = int(input('2つ目の値を入力して下さい : num2 = '))\n",
        "\n",
        "x = num1\n",
        "num1 = num2\n",
        "num2 = x\n",
        "\n",
        "print(num1, num2)"
      ],
      "metadata": {
        "id": "kd3sgD3-t3F3",
        "colab": {
          "base_uri": "https://localhost:8080/"
        },
        "outputId": "57414fe5-1cb7-4359-965a-54315433c88e"
      },
      "execution_count": null,
      "outputs": [
        {
          "output_type": "stream",
          "name": "stdout",
          "text": [
            "1つ目の値を入力して下さい : num1 = 3\n",
            "2つ目の値を入力して下さい : num2 = 5\n",
            "5 3\n"
          ]
        }
      ]
    },
    {
      "cell_type": "code",
      "source": [
        "num1 = int(input('1つ目の値を入力して下さい : num1 = '))\n",
        "num2 = int(input('2つ目の値を入力して下さい : num2 = '))\n",
        "print(num1, num2)\n",
        "\n",
        "def change(num1, num2):\n",
        "  x = num1\n",
        "  num1 = num2\n",
        "  num2 = x\n",
        "  print(num1, num2)\n",
        "change(num1, num2)"
      ],
      "metadata": {
        "colab": {
          "base_uri": "https://localhost:8080/"
        },
        "id": "OisD9sjV42A6",
        "outputId": "9033da4d-1d7b-4a34-9bc5-1a8493fe788d"
      },
      "execution_count": null,
      "outputs": [
        {
          "output_type": "stream",
          "name": "stdout",
          "text": [
            "1つ目の値を入力して下さい : num1 = 3\n",
            "2つ目の値を入力して下さい : num2 = 5\n",
            "3 5\n",
            "5 3\n"
          ]
        }
      ]
    },
    {
      "cell_type": "markdown",
      "source": [
        "# 「*」を使って、直角三角形を下記のように画面に表示するプログラムを作成せよ。\n"
      ],
      "metadata": {
        "id": "KYb_RH4c58G6"
      }
    },
    {
      "cell_type": "code",
      "source": [
        "num = int(input('高さを入力して下さい : '))\n",
        "\n",
        "h = int(num)\n",
        "for i in range(h + 1):\n",
        "  for j in range(i):\n",
        "    print('*', end=\"\")\n",
        "  print()"
      ],
      "metadata": {
        "id": "nCOzCAvI5z3l",
        "colab": {
          "base_uri": "https://localhost:8080/"
        },
        "outputId": "2d31c961-fccd-464b-81f4-272f1e460d8f"
      },
      "execution_count": null,
      "outputs": [
        {
          "output_type": "stream",
          "name": "stdout",
          "text": [
            "高さを入力して下さい : 5\n",
            "\n",
            "*\n",
            "**\n",
            "***\n",
            "****\n",
            "*****\n"
          ]
        }
      ]
    },
    {
      "cell_type": "code",
      "source": [
        "num = int(input('高さを入力して下さい : '))\n",
        "\n",
        "h = int(num)\n",
        "i = 1\n",
        "while i <= h:\n",
        "  j = 1\n",
        "  while j <= i:\n",
        "    print('*', end=\"\")\n",
        "    j = j + 1\n",
        "  print()\n",
        "  i = i + 1"
      ],
      "metadata": {
        "colab": {
          "base_uri": "https://localhost:8080/"
        },
        "id": "mSzcHp0wxcQd",
        "outputId": "a041425c-629c-404d-b495-e26465b611fc"
      },
      "execution_count": null,
      "outputs": [
        {
          "output_type": "stream",
          "name": "stdout",
          "text": [
            "高さを入力して下さい : 7\n",
            "*\n",
            "**\n",
            "***\n",
            "****\n",
            "*****\n",
            "******\n",
            "*******\n"
          ]
        }
      ]
    },
    {
      "cell_type": "markdown",
      "source": [
        "**10以下の素数の和は 2 + 3 + 5 + 7 = 17 である。**\n",
        "# 200以下の全ての素数の和を求めよ."
      ],
      "metadata": {
        "id": "a7SSULo7y4-i"
      }
    },
    {
      "cell_type": "code",
      "source": [
        "num = 0\n",
        "limit = 200\n",
        "for i in range(2, limit):\n",
        "  for j in range(2, i):\n",
        "    if i % j == 0:\n",
        "      break\n",
        "  else:\n",
        "    num = num + i\n",
        "    print(i)\n",
        "print(num)\n"
      ],
      "metadata": {
        "colab": {
          "base_uri": "https://localhost:8080/"
        },
        "id": "_ROxs0E_x3Et",
        "outputId": "5fc81951-adb0-42cc-e214-2e7c565b1984"
      },
      "execution_count": null,
      "outputs": [
        {
          "output_type": "stream",
          "name": "stdout",
          "text": [
            "2\n",
            "3\n",
            "5\n",
            "7\n",
            "11\n",
            "13\n",
            "17\n",
            "19\n",
            "23\n",
            "29\n",
            "31\n",
            "37\n",
            "41\n",
            "43\n",
            "47\n",
            "53\n",
            "59\n",
            "61\n",
            "67\n",
            "71\n",
            "73\n",
            "79\n",
            "83\n",
            "89\n",
            "97\n",
            "101\n",
            "103\n",
            "107\n",
            "109\n",
            "113\n",
            "127\n",
            "131\n",
            "137\n",
            "139\n",
            "149\n",
            "151\n",
            "157\n",
            "163\n",
            "167\n",
            "173\n",
            "179\n",
            "181\n",
            "191\n",
            "193\n",
            "197\n",
            "199\n",
            "4227\n"
          ]
        }
      ]
    },
    {
      "cell_type": "markdown",
      "source": [
        "# **10個の数を入力し「前回と同じ数を入力した回数」を表示するプログラムを作成せよ。**\n",
        "\n",
        "3,3,5,6,6と入力すると、2回と表示する。\n",
        "\n",
        "10回連続したらperfectと返しましょう。"
      ],
      "metadata": {
        "id": "9jLsOCQ4i59d"
      }
    },
    {
      "cell_type": "code",
      "source": [
        "x = 0 # 前回の値\n",
        "v = 1 # 連続した数\n",
        "for i in range(0, 10):\n",
        "  j = int(input(\"数字を入力して下さい\"))\n",
        "  if j == x:\n",
        "    v = v + 1 # 連続した数\n",
        "    print(\"{}回連続\".format(v))\n",
        "    if v == 10:\n",
        "      print('perfect!!')\n",
        "  else:\n",
        "    v = 1 # 連続しなかったので値を1に戻す。\n",
        "    print('連続なし')\n",
        "  x = j # 今回inputした値を記録"
      ],
      "metadata": {
        "id": "NMwSt63z1cR6",
        "colab": {
          "base_uri": "https://localhost:8080/"
        },
        "outputId": "d6c1a4b1-acef-43b3-c009-f327665e516e"
      },
      "execution_count": 5,
      "outputs": [
        {
          "output_type": "stream",
          "name": "stdout",
          "text": [
            "数字を入力して下さい1\n",
            "連続なし\n",
            "数字を入力して下さい1\n",
            "2回連続\n",
            "数字を入力して下さい1\n",
            "3回連続\n",
            "数字を入力して下さい1\n",
            "4回連続\n",
            "数字を入力して下さい1\n",
            "5回連続\n",
            "数字を入力して下さい1\n",
            "6回連続\n",
            "数字を入力して下さい1\n",
            "7回連続\n",
            "数字を入力して下さい1\n",
            "8回連続\n",
            "数字を入力して下さい1\n",
            "9回連続\n",
            "数字を入力して下さい1\n",
            "10回連続\n",
            "perfect!!\n"
          ]
        }
      ]
    },
    {
      "cell_type": "markdown",
      "source": [
        "# **入力した10個の数の中に5があるか調べるプログラムを作成せよ。**"
      ],
      "metadata": {
        "id": "so0y3kah403u"
      }
    },
    {
      "cell_type": "code",
      "source": [
        "x = list(map(int, input()))\n",
        "for i in range(len(x)):\n",
        "  j = x[i]\n",
        "  if j == 5:\n",
        "    print(\"5です！！\")\n",
        "  else:\n",
        "    print('5じゃないです')"
      ],
      "metadata": {
        "colab": {
          "base_uri": "https://localhost:8080/"
        },
        "id": "8tXEBH4e40cG",
        "outputId": "517d321e-2f1b-4d74-deee-c9405c7dba93"
      },
      "execution_count": 11,
      "outputs": [
        {
          "output_type": "stream",
          "name": "stdout",
          "text": [
            "543212345\n",
            "5です！！\n",
            "5じゃないです\n",
            "5じゃないです\n",
            "5じゃないです\n",
            "5じゃないです\n",
            "5じゃないです\n",
            "5じゃないです\n",
            "5じゃないです\n",
            "5です！！\n"
          ]
        }
      ]
    },
    {
      "cell_type": "markdown",
      "source": [
        "# **足し算と引き算をする電卓を作成せよ。**\n",
        "\n",
        "コマンドラインに数字を入力すると値を表示する。"
      ],
      "metadata": {
        "id": "wrvfZKLP8GB7"
      }
    },
    {
      "cell_type": "code",
      "source": [
        "x = int(input('1つ目の数字を入力して下さい : '))\n",
        "y = int(input('2つ目の数字を入力して下さい : '))\n",
        "\n",
        "add = x + y\n",
        "sub = x - y\n",
        "\n",
        "print(('足し算の結果は \"{}\" です').format(add))\n",
        "print(('引き算の結果は \"{}\" です').format(sub))"
      ],
      "metadata": {
        "colab": {
          "base_uri": "https://localhost:8080/"
        },
        "id": "aV6fMIYE5wid",
        "outputId": "f259b840-b6b0-429c-8f01-f5513e7c18fe"
      },
      "execution_count": 13,
      "outputs": [
        {
          "output_type": "stream",
          "name": "stdout",
          "text": [
            "1つ目の数字を入力して下さい : 4\n",
            "2つ目の数字を入力して下さい : 2\n",
            "足し算の結果は \"6\" です\n",
            "引き算の結果は \"2\" です\n"
          ]
        }
      ]
    },
    {
      "cell_type": "code",
      "source": [],
      "metadata": {
        "id": "pWUGilCW8o00"
      },
      "execution_count": null,
      "outputs": []
    }
  ]
}