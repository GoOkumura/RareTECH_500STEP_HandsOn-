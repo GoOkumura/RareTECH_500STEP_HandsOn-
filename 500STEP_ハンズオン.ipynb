{
  "nbformat": 4,
  "nbformat_minor": 0,
  "metadata": {
    "colab": {
      "provenance": [],
      "authorship_tag": "ABX9TyOjPFSlBC/ifr7Rhf1P+eFC",
      "include_colab_link": true
    },
    "kernelspec": {
      "name": "python3",
      "display_name": "Python 3"
    },
    "language_info": {
      "name": "python"
    }
  },
  "cells": [
    {
      "cell_type": "markdown",
      "metadata": {
        "id": "view-in-github",
        "colab_type": "text"
      },
      "source": [
        "<a href=\"https://colab.research.google.com/github/GoOkumura/RareTECH_500STEP_HandsOn-/blob/main/500STEP_%E3%83%8F%E3%83%B3%E3%82%BA%E3%82%AA%E3%83%B3.ipynb\" target=\"_parent\"><img src=\"https://colab.research.google.com/assets/colab-badge.svg\" alt=\"Open In Colab\"/></a>"
      ]
    },
    {
      "cell_type": "markdown",
      "source": [],
      "metadata": {
        "id": "Yke80yNdzJrs"
      }
    },
    {
      "cell_type": "markdown",
      "source": [
        "# **FizzBuzz**"
      ],
      "metadata": {
        "id": "9nt4IClazMGH"
      }
    },
    {
      "cell_type": "code",
      "source": [
        "A = \"挑戦！\"\n",
        "\n",
        "def FizzBuzz():\n",
        "\n",
        "  for i in range (1, 101):\n",
        "    if i % 15 == 0:\n",
        "      print(\"FizzBuzz\")\n",
        "    elif i % 3 == 0:\n",
        "      print(\"Fizz\")\n",
        "    elif i % 5 == 0:\n",
        "      print(\"Buzz\")\n",
        "    else:\n",
        "      print(i)\n",
        "\n",
        "Q = input(\"FizzBuzzに？ ： \")\n",
        "if Q == A:\n",
        "  FizzBuzz()\n",
        "  print(\"ぐわし！！\")\n",
        "else:\n",
        "  print(\"あっちょんぶりけ！！\")"
      ],
      "metadata": {
        "id": "_Ypi8kM-zIvi"
      },
      "execution_count": null,
      "outputs": []
    },
    {
      "cell_type": "markdown",
      "source": [
        "# **九九の段を出力するプログラム**"
      ],
      "metadata": {
        "id": "L6UdS1VS44Ju"
      }
    },
    {
      "cell_type": "code",
      "execution_count": null,
      "metadata": {
        "id": "0x1N5jrH4gir"
      },
      "outputs": [],
      "source": [
        "num = int(input(\"何の段を出力しますか？\"))\n",
        "print(\"「{}」の段を出力します。\".format(num))\n",
        "\n",
        "for i in range(1, 10):\n",
        "  print(num * i, end=\" => \")\n",
        "  print(\"「{}×{}です」\".format(num, i))\n"
      ]
    },
    {
      "cell_type": "markdown",
      "source": [
        "# **3の倍数の時に、fooと出力するプログラム**"
      ],
      "metadata": {
        "id": "KIBmPXf3qIUQ"
      }
    },
    {
      "cell_type": "code",
      "source": [
        "for i in range(1, 10):\n",
        "  if i % 3 == 0:\n",
        "    print(\"foo\")\n",
        "  else:\n",
        "    print(i)"
      ],
      "metadata": {
        "id": "JRl8LquYqCM3"
      },
      "execution_count": null,
      "outputs": []
    },
    {
      "cell_type": "code",
      "source": [
        "num = int(input('数字を入力して下さい'))\n",
        "\n",
        "if num % 3 == 0:\n",
        "  print('foo')\n",
        "else:\n",
        "  print('i')"
      ],
      "metadata": {
        "id": "s-9H4Do0qcoP"
      },
      "execution_count": null,
      "outputs": []
    },
    {
      "cell_type": "markdown",
      "source": [
        "# **二つの値を入力し、その数の和を返すプログラム**"
      ],
      "metadata": {
        "id": "nGxgRpgss2rL"
      }
    },
    {
      "cell_type": "code",
      "source": [
        "num1 = int(input('1つ目の値を入力して下さい : '))\n",
        "num2 = int(input('2つ目の値を入力して下さい : '))\n",
        "\n",
        "print(num1 + num2)"
      ],
      "metadata": {
        "id": "2wP8Qb-lqz7n"
      },
      "execution_count": null,
      "outputs": []
    },
    {
      "cell_type": "code",
      "source": [
        "a, b = (int(x) for x in input('空白を開けて数字を2つ入力して下さい').split())\n",
        "print(a + b)"
      ],
      "metadata": {
        "id": "qTakRL_7tXHr"
      },
      "execution_count": null,
      "outputs": []
    },
    {
      "cell_type": "markdown",
      "source": [
        "# **2つの値を入力して変数に格納し、変数の内容を交換して画面に表示するプログラム**"
      ],
      "metadata": {
        "id": "lT3FHblguZLh"
      }
    },
    {
      "cell_type": "code",
      "source": [
        "num1 = int(input('1つ目の値を入力して下さい : num1 = '))\n",
        "num2 = int(input('2つ目の値を入力して下さい : num2 = '))\n",
        "\n",
        "x = num1\n",
        "num1 = num2\n",
        "num2 = x\n",
        "\n",
        "print(num1, num2)"
      ],
      "metadata": {
        "id": "kd3sgD3-t3F3"
      },
      "execution_count": null,
      "outputs": []
    },
    {
      "cell_type": "code",
      "source": [
        "num1 = int(input('1つ目の値を入力して下さい : num1 = '))\n",
        "num2 = int(input('2つ目の値を入力して下さい : num2 = '))\n",
        "print(num1, num2)\n",
        "\n",
        "def change(num1, num2):\n",
        "  x = num1\n",
        "  num1 = num2\n",
        "  num2 = x\n",
        "  print(num1, num2)\n",
        "change(num1, num2)"
      ],
      "metadata": {
        "id": "OisD9sjV42A6"
      },
      "execution_count": null,
      "outputs": []
    },
    {
      "cell_type": "markdown",
      "source": [
        "# 「*」を使って、直角三角形を下記のように画面に表示するプログラム。\n"
      ],
      "metadata": {
        "id": "KYb_RH4c58G6"
      }
    },
    {
      "cell_type": "code",
      "source": [
        "num = int(input('高さを入力して下さい : '))\n",
        "\n",
        "h = int(num)\n",
        "for i in range(h + 1):\n",
        "  for j in range(i):\n",
        "    print('*', end=\"\")\n",
        "  print()"
      ],
      "metadata": {
        "id": "nCOzCAvI5z3l"
      },
      "execution_count": null,
      "outputs": []
    },
    {
      "cell_type": "code",
      "source": [
        "num = int(input('高さを入力して下さい : '))\n",
        "\n",
        "h = int(num)\n",
        "i = 1\n",
        "while i <= h:\n",
        "  j = 1\n",
        "  while j <= i:\n",
        "    print('*', end=\"\")\n",
        "    j = j + 1\n",
        "  print()\n",
        "  i = i + 1"
      ],
      "metadata": {
        "id": "mSzcHp0wxcQd"
      },
      "execution_count": null,
      "outputs": []
    },
    {
      "cell_type": "markdown",
      "source": [
        "**10以下の素数の和は 2 + 3 + 5 + 7 = 17 である。**\n",
        "# 200以下の全ての素数の和を求めるプログラム"
      ],
      "metadata": {
        "id": "a7SSULo7y4-i"
      }
    },
    {
      "cell_type": "code",
      "source": [
        "num = 0\n",
        "limit = 200\n",
        "for i in range(2, limit):\n",
        "  for j in range(2, i):\n",
        "    if i % j == 0:\n",
        "      break\n",
        "  else:\n",
        "    num = num + i\n",
        "    print(i)\n",
        "print('------------')\n",
        "print(num)\n"
      ],
      "metadata": {
        "id": "_ROxs0E_x3Et"
      },
      "execution_count": null,
      "outputs": []
    },
    {
      "cell_type": "markdown",
      "source": [
        "# **10個の数を入力し「前回と同じ数を入力した回数」を表示するプログラム**\n",
        "\n",
        "3,3,5,6,6と入力すると、2回と表示する。\n",
        "\n",
        "10回連続したらperfectと返しましょう。"
      ],
      "metadata": {
        "id": "9jLsOCQ4i59d"
      }
    },
    {
      "cell_type": "code",
      "source": [
        "x = 0 # 前回の値\n",
        "v = 1 # 連続した数\n",
        "for i in range(0, 10):\n",
        "  j = int(input(\"数字を入力して下さい\"))\n",
        "  if j == x:\n",
        "    v = v + 1 # 連続した数\n",
        "    print(\"{}回連続\".format(v))\n",
        "    if v == 10:\n",
        "      print('perfect!!')\n",
        "  else:\n",
        "    v = 1 # 連続しなかったので値を1に戻す。\n",
        "    print('連続なし')\n",
        "  x = j # 今回inputした値を記録"
      ],
      "metadata": {
        "id": "NMwSt63z1cR6"
      },
      "execution_count": null,
      "outputs": []
    },
    {
      "cell_type": "markdown",
      "source": [
        "# **入力した10個の数の中に5があるか調べるプログラム**"
      ],
      "metadata": {
        "id": "so0y3kah403u"
      }
    },
    {
      "cell_type": "code",
      "source": [
        "x = list(map(int, input()))\n",
        "for i in range(len(x)):\n",
        "  j = x[i]\n",
        "  if j == 5:\n",
        "    print(\"5です！！\")\n",
        "  else:\n",
        "    print('5じゃないです')"
      ],
      "metadata": {
        "id": "8tXEBH4e40cG"
      },
      "execution_count": null,
      "outputs": []
    },
    {
      "cell_type": "markdown",
      "source": [
        "# **足し算と引き算をする電卓プログラム**\n",
        "\n",
        "コマンドラインに数字を入力すると値を表示する。"
      ],
      "metadata": {
        "id": "wrvfZKLP8GB7"
      }
    },
    {
      "cell_type": "code",
      "source": [
        "x = int(input('1つ目の数字を入力して下さい : '))\n",
        "y = int(input('2つ目の数字を入力して下さい : '))\n",
        "\n",
        "add = x + y\n",
        "sub = x - y\n",
        "\n",
        "print(('足し算の結果は \"{}\" です').format(add))\n",
        "print(('引き算の結果は \"{}\" です').format(sub))"
      ],
      "metadata": {
        "id": "aV6fMIYE5wid"
      },
      "execution_count": null,
      "outputs": []
    },
    {
      "cell_type": "markdown",
      "source": [
        "# **九九の表を作るプログラム**\n",
        "\n",
        "式と答えも表示せよ。"
      ],
      "metadata": {
        "id": "HcPDeufzymzq"
      }
    },
    {
      "cell_type": "code",
      "source": [
        "i = 1\n",
        "while i <= 9 :\n",
        "  j = 1\n",
        "  while j <= 9:\n",
        "    if j == 1:\n",
        "      print(\"--------------\")\n",
        "      print(\"{}の段です。\".format(i))\n",
        "    x = i * j\n",
        "    print(\"{}×{}={}  \".format(i, j, x), end=\"\")\n",
        "    if j == 9:\n",
        "      print()\n",
        "    j = j +1\n",
        "  i = i + 1\n"
      ],
      "metadata": {
        "id": "pWUGilCW8o00"
      },
      "execution_count": null,
      "outputs": []
    },
    {
      "cell_type": "markdown",
      "source": [
        "# **「＊」を使って四角形を画面に表示するプログラム**\n",
        "\n",
        "条件：1行ごとに改行が入り、最初と最後の行以外は中抜きになる。"
      ],
      "metadata": {
        "id": "cS7yCkajrgIh"
      }
    },
    {
      "cell_type": "code",
      "source": [
        "num = int(input('好きな数字を入力して下さい : '))\n",
        "i = 1\n",
        "# 1行目の表示\n",
        "for i in range(0, num):\n",
        "  print('*', end='')\n",
        "  if(i == num):\n",
        "    print()\n",
        "  i = i + 1\n",
        "print()\n",
        "\n",
        "j = 2\n",
        "# 2~最終行前表示\n",
        "while j < num:\n",
        "  print('*', end='')\n",
        "  i = 2\n",
        "  while i < num:\n",
        "    print(' ', end='')\n",
        "    i = i + 1\n",
        "  print('*')\n",
        "  j = j + 1\n",
        "\n",
        "i = 1\n",
        "# 最終行\n",
        "for j in range(0, num):\n",
        "  print('*', end='')\n",
        "  if(i == num):\n",
        "    print()\n",
        "  i = i + 1"
      ],
      "metadata": {
        "id": "3xKZTzJorxdH"
      },
      "execution_count": null,
      "outputs": []
    },
    {
      "cell_type": "markdown",
      "source": [
        "# **フィボナッチ数列を10000まで出すプログラムの作成**"
      ],
      "metadata": {
        "id": "EKwHWzs_GLGE"
      }
    },
    {
      "cell_type": "code",
      "source": [
        "def fib(n):\n",
        "  if n == 1:\n",
        "    return 1\n",
        "  elif n == 2:\n",
        "    return 1\n",
        "  else:\n",
        "    return fib(n-2) + fib(n-1)\n",
        "for i in range(1, 100):\n",
        "  print(fib(i))\n",
        "  if fib(i) > 10000:\n",
        "    break"
      ],
      "metadata": {
        "id": "T9i6FsXBLa6T"
      },
      "execution_count": null,
      "outputs": []
    },
    {
      "cell_type": "markdown",
      "source": [
        "### **２つの正の整数値を入力させ、互いに素であるか判定するプログラム**"
      ],
      "metadata": {
        "id": "cYWfZ1f0xfmZ"
      }
    },
    {
      "cell_type": "code",
      "source": [
        "num1 = int(input('1つ目の正の整数を入力して下さい : '))\n",
        "num2 = int(input('2つ目の正の整数を入力して下さい : '))\n",
        "\n",
        "if num1 <= 1:\n",
        "  print('入力をやり直して下さい')\n",
        "else:\n",
        "  for i in range(2, num1):\n",
        "    if num1 % i == 0:\n",
        "      print(f'num1 ({num1}) は素数ではありません。')\n",
        "      break\n",
        "    else:\n",
        "      for j in range(2, num2):\n",
        "        if num2 % j == 0:\n",
        "          print(f'num2 ({num2}) は素数ではありません。')\n",
        "          break\n",
        "  else:\n",
        "    print(f'num1 ({num1})・num2 ({num2})、どちらも素数です！')"
      ],
      "metadata": {
        "colab": {
          "base_uri": "https://localhost:8080/"
        },
        "id": "gRoMK8cL3H1t",
        "outputId": "fe556658-3545-4fad-8207-62742df7abba"
      },
      "execution_count": null,
      "outputs": [
        {
          "output_type": "stream",
          "name": "stdout",
          "text": [
            "1つ目の正の整数を入力して下さい : 11\n",
            "2つ目の正の整数を入力して下さい : 11\n",
            "num1 (11)・num2 (11)、どちらも素数です！\n"
          ]
        }
      ]
    },
    {
      "cell_type": "markdown",
      "source": [
        "# **バブルソート**"
      ],
      "metadata": {
        "id": "v6-sS-qfnf2v"
      }
    },
    {
      "cell_type": "code",
      "source": [
        "# randomをインポートし、1~100の間の整数をランダムに5個numsに代入する。\n",
        "import random\n",
        "nums = [random.randint(1, 100) for _ in range(6)]\n",
        "print(nums)\n",
        "print('----------')\n",
        "# 1~順にリストの長さ分の整数をjに代入する。\n",
        "for j in range(1, len(nums)):\n",
        "  print('j = ', j)\n",
        "  # リストの長さマイナスjの整数をiに代入する。\n",
        "  for i in range(len(nums)-j):\n",
        "    print('i = ', i)\n",
        "    print(nums)\n",
        "    print(nums[i], nums[i+1])\n",
        "    if nums[i] > nums[i+1]:\n",
        "      print('nums[i]=', nums[i], 'nums[i+1]=', nums[i+1])\n",
        "      nums[i], nums[i + 1] = nums[i +1], nums[i]\n",
        "      print('nums[i+1]=', nums[i+1], 'nums[i]=', nums[i])\n",
        "      print(nums)\n",
        "    else:\n",
        "      print('nums[i]=', nums[i], 'nums[i+1]=', nums[i+1], 'なのでそのまま')\n",
        "print('----------')\n",
        "nums"
      ],
      "metadata": {
        "id": "hOkrRhD7Y-bk"
      },
      "execution_count": null,
      "outputs": []
    },
    {
      "cell_type": "markdown",
      "source": [
        "## **マージソート**"
      ],
      "metadata": {
        "id": "VZxp29nUFaSR"
      }
    },
    {
      "cell_type": "code",
      "source": [
        "import random\n",
        "nums = [random.randint(1, 100) for _ in range(8)]\n",
        "print(nums)\n",
        "# nums = [5, 4, 1, 8, 7, 3, 2, 6]"
      ],
      "metadata": {
        "colab": {
          "base_uri": "https://localhost:8080/"
        },
        "id": "SRopUN9DFtfK",
        "outputId": "e2c84967-374e-4f01-88ec-f9e56a2c4655"
      },
      "execution_count": 1,
      "outputs": [
        {
          "output_type": "stream",
          "name": "stdout",
          "text": [
            "[34, 44, 33, 83, 50, 80, 69, 41]\n"
          ]
        }
      ]
    },
    {
      "cell_type": "code",
      "source": [
        "def merge_sort(nums):\n",
        "  # numsの長さが1以下ならそのままnumsを返す\n",
        "  print('nums = ', nums)\n",
        "  if len(nums) <= 1:\n",
        "    print('nums = ', nums)\n",
        "    return nums\n",
        "  print(nums)\n",
        "  print('\\n')\n",
        "  \n",
        "  # numsを２分割する\n",
        "  center_idx = len(nums) // 2\n",
        "  left_nums = nums[:center_idx]\n",
        "  right_nums = nums[center_idx:]\n",
        "  print('--numsの分割---')\n",
        "  print('left_nums', left_nums)\n",
        "  print('right_nums', right_nums)\n",
        "  print('nums = ', nums)\n",
        "  print('\\n')\n",
        "\n",
        "  # 再起的にソートする\n",
        "  merge_sort(left_nums)\n",
        "  merge_sort(right_nums)\n",
        "  print('---再起的にソート---')\n",
        "  print('left_nums', left_nums)\n",
        "  print('right_nums', right_nums)\n",
        "  print('nums = ', nums)\n",
        "  print('\\n')\n",
        "\n",
        "\n",
        "  # 分割したデータをソート\n",
        "  left_idx = right_idx = idx = 0\n",
        "  print('----分割したデータをソート----')\n",
        "  print('left_idx = ', left_idx)\n",
        "  print('right_idx = ', right_idx)\n",
        "  print('nums = ', nums)\n",
        "  print('\\n')\n",
        "\n",
        "  # while文を使って使ってマージしていく\n",
        "  print('left_idxがleft_numsの長さ未満で、且つ、right_idxがright_numsの長さ未満の間')\n",
        "  while left_idx < len(left_nums) and right_idx < len(right_nums):\n",
        "    print('left_idx = ', left_idx, 'len(left_nums) = ', len(left_nums))\n",
        "    print('right_idx = ', right_idx, 'len(right_nums) = ', len(right_nums))\n",
        "    print('\\n')\n",
        "    if left_nums[left_idx] <= right_nums[right_idx]:\n",
        "      print('left_nums[left_idx] = ', left_nums[left_idx], 'right_nums[right_idx] = ', right_nums[right_idx])\n",
        "      print('left_nums[left_idx]がright_nums[right_idx]以下の場合、left_nums[left_idx]をnums[idx]へ代入する')\n",
        "      nums[idx] = left_nums[left_idx]\n",
        "      print('left_nums = ', left_nums)\n",
        "      print('right_nums = ', right_nums)\n",
        "      print('nums = ', nums)\n",
        "      print('left_idxを１つ増やす')\n",
        "      left_idx += 1\n",
        "      print('left_idx+=1 = ', left_idx)\n",
        "      print('\\n')\n",
        "    else:\n",
        "      print('left_nums[left_idx] = ', left_nums[left_idx], 'right_nums[right_idx] = ', right_nums[right_idx])\n",
        "      print('left_nums[left_idx]がright_nums[right_idx]より大きい場合、right_nums[right_idx]をnums[idx]に代入する')\n",
        "      nums[idx] = right_nums[right_idx]\n",
        "      print('left_nums = ', left_nums)\n",
        "      print('right_nums = ', right_nums)\n",
        "      print('nums = ', nums)\n",
        "      print('right_idxを１つ増やす')\n",
        "      right_idx += 1\n",
        "      print('right_idx = ', right_idx)\n",
        "    print('idxを１つ増やす')\n",
        "    idx += 1\n",
        "    print('idx = ', idx)\n",
        "    print('\\n')\n",
        "    print('-----')\n",
        "\n",
        "  while right_idx < len(right_nums):\n",
        "    print('right_idx = ', right_idx, 'len(right_nums) = ', len(right_nums))\n",
        "    print('right_idxがright_numsの長さ以下の場合、right_nums[right_idx]をnums[idx]に代入する')\n",
        "    print('nums[idx] = ', nums[idx], 'right_nums[right_idx] = ', right_nums[right_idx])\n",
        "    nums[idx] = right_nums[right_idx]\n",
        "    print('left_nums = ', left_nums)\n",
        "    print('right_nums = ', right_nums)\n",
        "    print('nums = ', nums)\n",
        "    print('idxを１つ増やす')\n",
        "    print('idx = ', idx)\n",
        "    idx += 1\n",
        "    print('idx = ', idx)\n",
        "    print('right_idxを１つ増やす')\n",
        "    right_idx += 1\n",
        "    print('right_idx = ', right_idx)\n",
        "    print('\\n')\n",
        "    print('-----')\n",
        "\n",
        "  while left_idx < len(left_nums):\n",
        "    print('left_idx = ', left_idx, 'len(left_nums) = ', len(left_nums))\n",
        "    print('left_idxがleft_numsの長さ未満の場合、left_nums[left_idx]をnums[idx]に代入する')\n",
        "    print('nums[idx] = ', nums[idx], 'left_nums[left_idx] = ', left_nums[left_idx])\n",
        "    nums[idx] = left_nums[left_idx]\n",
        "    print('left_nums = ', left_nums)\n",
        "    print('right_nums = ', right_nums)\n",
        "    print('nums = ', nums)\n",
        "    print('idxを１つ増やす')\n",
        "    print('idx = ', idx)\n",
        "    idx += 1\n",
        "    print('idx = ', idx)\n",
        "    print('left_idxを１つ増やす')\n",
        "    left_idx += 1\n",
        "    print('left_idx+=1 = ', left_idx)\n",
        "    print('\\n')\n",
        "    print('-----')\n",
        "\n",
        "  print('numsを返す')\n",
        "  print('-----')\n",
        "  print(nums)\n",
        "  return nums\n",
        "  print('-----')\n",
        "  print('\\n')\n",
        "\n",
        "\n",
        "merge_sort(nums)"
      ],
      "metadata": {
        "id": "pSjHI5MTFdCG"
      },
      "execution_count": null,
      "outputs": []
    }
  ]
}